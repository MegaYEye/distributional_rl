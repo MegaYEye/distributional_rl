{
 "cells": [
  {
   "cell_type": "code",
   "execution_count": 1,
   "metadata": {},
   "outputs": [],
   "source": [
    "import math, random\n",
    "\n",
    "import gym\n",
    "import numpy as np\n",
    "from matplotlib import pyplot\n",
    "import pdb\n",
    "\n",
    "import torch\n",
    "import torch.nn as nn\n",
    "import torch.optim as optim\n",
    "import torch.autograd as autograd \n",
    "import torch.nn.functional as F\n",
    "\n",
    "from common.replay_buffer import ReplayBuffer\n",
    "from pyemd import * "
   ]
  },
  {
   "cell_type": "code",
   "execution_count": 2,
   "metadata": {},
   "outputs": [],
   "source": [
    "from IPython.display import clear_output\n",
    "import matplotlib.pyplot as plt\n",
    "%matplotlib inline"
   ]
  },
  {
   "cell_type": "markdown",
   "metadata": {},
   "source": [
    "<h3>Use Cuda</h3>"
   ]
  },
  {
   "cell_type": "code",
   "execution_count": 3,
   "metadata": {},
   "outputs": [],
   "source": [
    "USE_CUDA = torch.cuda.is_available()\n",
    "Variable = lambda *args, **kwargs: autograd.Variable(*args, **kwargs).cuda() if USE_CUDA else autograd.Variable(*args, **kwargs)"
   ]
  },
  {
   "cell_type": "markdown",
   "metadata": {},
   "source": [
    "<h2>Cart Pole Environment</h2>"
   ]
  },
  {
   "cell_type": "code",
   "execution_count": 4,
   "metadata": {},
   "outputs": [
    {
     "name": "stdout",
     "output_type": "stream",
     "text": [
      "\u001b[33mWARN: gym.spaces.Box autodetected dtype as <type 'numpy.float32'>. Please provide explicit dtype.\u001b[0m\n"
     ]
    }
   ],
   "source": [
    "env_id = \"CartPole-v0\"\n",
    "env = gym.make(env_id)"
   ]
  },
  {
   "cell_type": "markdown",
   "metadata": {},
   "source": [
    "<h3> Noisy Networks for Exploration</h3>"
   ]
  },
  {
   "cell_type": "code",
   "execution_count": 5,
   "metadata": {},
   "outputs": [],
   "source": [
    "class NoisyLinear(nn.Module):\n",
    "    def __init__(self, in_features, out_features, std_init=0.4):\n",
    "        super(NoisyLinear, self).__init__()\n",
    "        \n",
    "        self.in_features  = in_features\n",
    "        self.out_features = out_features\n",
    "        self.std_init     = std_init\n",
    "        \n",
    "        self.weight_mu    = nn.Parameter(torch.FloatTensor(out_features, in_features))\n",
    "        self.weight_sigma = nn.Parameter(torch.FloatTensor(out_features, in_features))\n",
    "        self.register_buffer('weight_epsilon', torch.FloatTensor(out_features, in_features))\n",
    "        \n",
    "        self.bias_mu    = nn.Parameter(torch.FloatTensor(out_features))\n",
    "        self.bias_sigma = nn.Parameter(torch.FloatTensor(out_features))\n",
    "        self.register_buffer('bias_epsilon', torch.FloatTensor(out_features))\n",
    "        \n",
    "        self.reset_parameters()\n",
    "        self.reset_noise()\n",
    "    \n",
    "    def forward(self, x):\n",
    "        if self.training: \n",
    "            weight = self.weight_mu + self.weight_sigma.mul(Variable(self.weight_epsilon))\n",
    "            bias   = self.bias_mu   + self.bias_sigma.mul(Variable(self.bias_epsilon))\n",
    "        else:\n",
    "            weight = self.weight_mu\n",
    "            bias   = self.bias_mu\n",
    "        \n",
    "        return F.linear(x, weight, bias)\n",
    "    \n",
    "    def reset_parameters(self):\n",
    "        mu_range = 1 / math.sqrt(self.weight_mu.size(1))\n",
    "        \n",
    "        self.weight_mu.data.uniform_(-mu_range, mu_range)\n",
    "        self.weight_sigma.data.fill_(self.std_init / math.sqrt(self.weight_sigma.size(1)))\n",
    "        \n",
    "        self.bias_mu.data.uniform_(-mu_range, mu_range)\n",
    "        self.bias_sigma.data.fill_(self.std_init / math.sqrt(self.bias_sigma.size(0)))\n",
    "    \n",
    "    def reset_noise(self):\n",
    "        epsilon_in  = self._scale_noise(self.in_features)\n",
    "        epsilon_out = self._scale_noise(self.out_features)\n",
    "        \n",
    "        self.weight_epsilon.copy_(epsilon_out.ger(epsilon_in))\n",
    "        self.bias_epsilon.copy_(self._scale_noise(self.out_features))\n",
    "    \n",
    "    def _scale_noise(self, size):\n",
    "        x = torch.randn(size)\n",
    "        x = x.sign().mul(x.abs().sqrt())\n",
    "        return x"
   ]
  },
  {
   "cell_type": "markdown",
   "metadata": {},
   "source": [
    "<h1>C-51 Algorithm</h1>\n",
    "<h2>A Distributional Perspective on Reinforcement Learning</h2>"
   ]
  },
  {
   "cell_type": "code",
   "execution_count": 6,
   "metadata": {},
   "outputs": [],
   "source": [
    "class CategoricalDQN(nn.Module):\n",
    "    def __init__(self, num_inputs, num_actions, num_atoms, Vmin, Vmax):\n",
    "        super(CategoricalDQN, self).__init__()\n",
    "        \n",
    "        self.num_inputs = num_inputs\n",
    "        self.num_actions  = num_actions\n",
    "        self.num_atoms    = num_atoms\n",
    "        self.Vmin         = Vmin\n",
    "        self.Vmax         = Vmax\n",
    "        \n",
    "        self.linear1 = nn.Linear(num_inputs, 128)\n",
    "        self.linear2 = nn.Linear(128, 128)\n",
    "        self.noisy1 = NoisyLinear(128, 512)\n",
    "        self.noisy2 = NoisyLinear(512, self.num_actions * self.num_atoms)\n",
    "        \n",
    "        self.theta = nn.Parameter(torch.FloatTensor(1, 1, num_atoms).normal_(), requires_grad=True)\n",
    "        \n",
    "    def forward(self, x, stop=False):\n",
    "        x = F.relu(self.linear1(x))\n",
    "        x = F.relu(self.linear2(x))\n",
    "        x = F.relu(self.noisy1(x))\n",
    "        x = self.noisy2(x)\n",
    "        x = F.softmax(x.view(-1, self.num_atoms), dim=-1).view(-1, self.num_actions, self.num_atoms)\n",
    "        \n",
    "        return x\n",
    "        \n",
    "    def reset_noise(self):\n",
    "        self.noisy1.reset_noise()\n",
    "        self.noisy2.reset_noise()\n",
    "    \n",
    "    def act(self, state):\n",
    "        state = Variable(torch.FloatTensor(state).unsqueeze(0), volatile=True)\n",
    "        dist = self.forward(state).data.cpu()\n",
    "        dist = dist * torch.linspace(Vmin, Vmax, num_atoms)\n",
    "        action = dist.sum(2).max(1)[1].numpy()[0]\n",
    "        return action"
   ]
  },
  {
   "cell_type": "code",
   "execution_count": 7,
   "metadata": {},
   "outputs": [],
   "source": [
    "def projection_distribution(next_state, rewards, dones, EMD=False):\n",
    "    batch_size  = next_state.size(0)\n",
    "    \n",
    "    delta_z = float(Vmax - Vmin) / (num_atoms - 1)\n",
    "    support = torch.linspace(Vmin, Vmax, num_atoms)\n",
    "    \n",
    "    # output of target_model is a **normalized** dist\n",
    "    next_dist_raw  = target_model(next_state).data.cpu()\n",
    "    # import pdb; pdb.set_trace()\n",
    "    next_dist      = next_dist_raw * support\n",
    "    next_action    = next_dist.sum(2).max(1)[1]\n",
    "    next_action    = next_action.unsqueeze(1).unsqueeze(1).expand(next_dist.size(0), 1, next_dist.size(2))\n",
    "    next_dist      = next_dist.gather(1, next_action).squeeze(1)\n",
    "    next_dist_raw  = next_dist_raw.gather(1, next_action).squeeze(1)\n",
    "        \n",
    "    rewards = rewards.unsqueeze(1).expand_as(next_dist)\n",
    "    dones   = dones.unsqueeze(1).expand_as(next_dist)\n",
    "    support = support.unsqueeze(0).expand_as(next_dist)\n",
    "    \n",
    "    Tz = rewards + (1 - dones) * 0.99 * support\n",
    "    Tz = Tz.clamp(min=Vmin, max=Vmax)\n",
    "    b  = (Tz - Vmin) / delta_z\n",
    "    l  = b.floor().long() # lower bound of each bin\n",
    "    u  = b.ceil().long()  # upper bound of each bin\n",
    "        \n",
    "    offset = torch.linspace(0, (batch_size - 1) * num_atoms, batch_size).long() \\\n",
    "                    .unsqueeze(1).expand(batch_size, num_atoms)\n",
    "\n",
    "\n",
    "    proj_dist = torch.zeros(next_dist.size())  \n",
    "    \n",
    "    if EMD: next_dist = next_dist_raw \n",
    "    \n",
    "    proj_dist.view(-1).index_add_(0, (l + offset).view(-1), (next_dist * (u.float() - b)).view(-1))\n",
    "    proj_dist.view(-1).index_add_(0, (u + offset).view(-1), (next_dist * (b - l.float()) ).view(-1))\n",
    "    \n",
    "    # this doesn't handle the case if u == b == l (which would simply discard it)\n",
    "    # for EMD only\n",
    "    if EMD and False: \n",
    "        next_dist_eq = u == l\n",
    "        next_dist_eq = next_dist * next_dist_eq.float()\n",
    "        proj_dist.view(-1).index_add_(0, (l + offset).view(-1), (next_dist_eq).view(-1))\n",
    "        \n",
    "    return proj_dist"
   ]
  },
  {
   "cell_type": "code",
   "execution_count": 8,
   "metadata": {},
   "outputs": [],
   "source": [
    "num_atoms = 15\n",
    "Vmin = -10 # -10\n",
    "Vmax = 150 # 10\n",
    "\n",
    "current_model = CategoricalDQN(env.observation_space.shape[0], env.action_space.n, num_atoms, Vmin, Vmax)\n",
    "target_model  = CategoricalDQN(env.observation_space.shape[0], env.action_space.n, num_atoms, Vmin, Vmax)\n",
    "# target_model.eval()\n",
    "\n",
    "if USE_CUDA:\n",
    "    current_model = current_model.cuda()\n",
    "    target_model  = target_model.cuda()\n",
    "    \n",
    "optimizer = optim.Adam(current_model.parameters(), lr=5e-4)\n",
    "\n",
    "replay_buffer = ReplayBuffer(10000)"
   ]
  },
  {
   "cell_type": "markdown",
   "metadata": {},
   "source": [
    "<h3>Synchronize current policy net and target net</h3>"
   ]
  },
  {
   "cell_type": "code",
   "execution_count": 9,
   "metadata": {},
   "outputs": [],
   "source": [
    "def update_target(current_model, target_model):\n",
    "    target_model.load_state_dict(current_model.state_dict())\n",
    "    \n",
    "update_target(current_model, target_model)"
   ]
  },
  {
   "cell_type": "markdown",
   "metadata": {},
   "source": [
    "### EMD Loss for categorical data"
   ]
  },
  {
   "cell_type": "code",
   "execution_count": 10,
   "metadata": {},
   "outputs": [],
   "source": [
    "class Categorical_EMD():\n",
    "    def __init__(self):\n",
    "        # we need to build a distance matrix (num_atoms x num_atoms) giving us the distance between the atoms\n",
    "        distance_matrix = np.zeros((num_atoms, num_atoms))\n",
    "\n",
    "        for i in range(num_atoms):\n",
    "            for j in range(num_atoms):\n",
    "                distance_matrix[i, j] = max(i - j, j - i) \n",
    "        \n",
    "        self.dist_matrix = distance_matrix\n",
    "        self.dist_tensor = Variable(torch.from_numpy(distance_matrix)).float().unsqueeze(0)\n",
    "        \n",
    "    def get_transport_plans(self, source_dist, target_dist):\n",
    "        all_plans = []\n",
    "        for i in range(source_dist.size(0)):\n",
    "            try:\n",
    "                transport_plan = Variable(torch.from_numpy(np.array(emd_with_flow(target_dist[i].double().numpy(), \n",
    "                                                                              source_dist[i].double().data.numpy(),                                                                self.dist_matrix)[1])))\n",
    "            except:\n",
    "                pdb.set_trace()\n",
    "            all_plans += [transport_plan]\n",
    "        \n",
    "        return torch.stack(all_plans, dim=0).float()\n",
    "    \n",
    "    def loss(self, source_dist, target_dist, Print=False):\n",
    "        assert len(source_dist.size()) == len(target_dist.size()) == 2 # bs x num_atoms\n",
    "        \n",
    "        # first, normalize the distributions\n",
    "        # pdb.set_trace()\n",
    "        source_dist = source_dist / source_dist.sum(dim=-1, keepdim=True)\n",
    "        target_dist = target_dist / target_dist.sum(dim=-1, keepdim=True)\n",
    "        \n",
    "        transport_plans = self.get_transport_plans(source_dist, target_dist)\n",
    "        \n",
    "        # if Print: print transport_plans[0]\n",
    "        \n",
    "        # source_dist = source_dist.unsqueeze(0).repeat(num_atoms, 1)\n",
    "        source_dist = source_dist.unsqueeze(1).repeat(1, num_atoms, 1)\n",
    "\n",
    "        normalized_plan = transport_plans / source_dist.detach()\n",
    "        cost = normalized_plan * self.dist_tensor * source_dist\n",
    "        return cost.sum()\n",
    "        \n",
    "    \n",
    "emd_loss = Categorical_EMD()"
   ]
  },
  {
   "cell_type": "code",
   "execution_count": 11,
   "metadata": {},
   "outputs": [],
   "source": [
    "def plot(frame_idx, rewards, losses):\n",
    "    clear_output(True)\n",
    "    plt.figure(figsize=(20,5))\n",
    "    plt.subplot(131)\n",
    "    plt.title('frame %s. reward: %s' % (frame_idx, np.mean(rewards[-10:])))\n",
    "    plt.plot(rewards)\n",
    "    plt.subplot(132)\n",
    "    plt.title('loss')\n",
    "    plt.plot(losses)\n",
    "    plt.show()\n",
    "    \n",
    "def plot_dists(pmf_target, pmf_estim, epoch, save=False):\n",
    "    delta_z = float(Vmax - Vmin) / (num_atoms - 1)\n",
    "    pyplot.bar(np.linspace(Vmin, Vmax, num_atoms), pmf_target, width=4., label='target')\n",
    "    pyplot.bar(np.linspace(Vmin, Vmax, num_atoms), pmf_estim, width=2., label='estim')\n",
    "    pyplot.title('distributions at iteration {}'.format(epoch))\n",
    "    pyplot.legend()\n",
    "    if save: \n",
    "        pyplot.savefig('emd/{}.png'.format(epoch))\n",
    "    pyplot.show()\n"
   ]
  },
  {
   "cell_type": "markdown",
   "metadata": {},
   "source": [
    "<h2>Computing Temporal Difference Loss</h2>"
   ]
  },
  {
   "cell_type": "code",
   "execution_count": 12,
   "metadata": {},
   "outputs": [],
   "source": [
    "def compute_td_loss(batch_size, plot=False, EMD=False):\n",
    "    state, action, reward, next_state, done = replay_buffer.sample(batch_size) \n",
    "\n",
    "    state      = Variable(torch.FloatTensor(np.float32(state)))\n",
    "    next_state = Variable(torch.FloatTensor(np.float32(next_state)), volatile=True)\n",
    "    action     = Variable(torch.LongTensor(action))\n",
    "    reward     = torch.FloatTensor(reward)\n",
    "    done       = torch.FloatTensor(np.float32(done))\n",
    "\n",
    "    proj_dist = projection_distribution(next_state, reward, done, EMD=EMD)\n",
    "\n",
    "    dist = current_model(state)\n",
    "    # import pdb; pdb.set_trace()\n",
    "    \n",
    "    action = action.unsqueeze(1).unsqueeze(1).expand(batch_size, 1, num_atoms)\n",
    "    dist = dist.gather(1, action).squeeze(1)\n",
    "    dist.data.clamp_(0.01, 0.99)\n",
    "    \n",
    "    # loss = - (Variable(proj_dist) * dist.log()).sum(1).mean()\n",
    "    \n",
    "    # assert torch.abs(dist.sum() - proj_dist.sum()).data[0] < 1e-3, pdb.set_trace()\n",
    "    # loss = torch.nn.KLDivLoss()(dist, Variable(proj_dist)).sum()\n",
    "    # print 'proj dist', proj_dist\n",
    "    # print 'dist     ', dist\n",
    "    \n",
    "    Print = False\n",
    "    if plot:\n",
    "        plot_dists(proj_dist[0].numpy(), dist[0].data.numpy(), 0)\n",
    "        Print = True\n",
    "        print 'source dist : ', dist[0]\n",
    "        print 'total prob : ', dist[0].sum()\n",
    "    \n",
    "    if EMD: \n",
    "        loss = emd_loss.loss(dist, proj_dist, Print=Print)\n",
    "    else: \n",
    "        loss = - (Variable(proj_dist) * dist.log()).sum(1).mean()\n",
    "    \n",
    "    if not plot:\n",
    "        optimizer.zero_grad()\n",
    "        loss.backward()\n",
    "        optimizer.step()\n",
    "    \n",
    "        current_model.reset_noise()\n",
    "        target_model.reset_noise()\n",
    "    \n",
    "    return loss"
   ]
  },
  {
   "cell_type": "markdown",
   "metadata": {},
   "source": [
    "<h2>Training</h2>"
   ]
  },
  {
   "cell_type": "code",
   "execution_count": 13,
   "metadata": {
    "scrolled": true
   },
   "outputs": [
    {
     "data": {
      "image/png": "[encoded data removed]",
      "text/plain": [
       "<matplotlib.figure.Figure at 0x133638710>"
      ]
     },
     "metadata": {},
     "output_type": "display_data"
    },
    {
     "data": {
      "image/png": "[encoded data removed]",
      "text/plain": [
       "<matplotlib.figure.Figure at 0x13394ff10>"
      ]
     },
     "metadata": {},
     "output_type": "display_data"
    },
    {
     "name": "stdout",
     "output_type": "stream",
     "text": [
      "source dist :  Variable containing:\n",
      " 0.0100\n",
      " 0.0100\n",
      " 0.9900\n",
      " 0.0100\n",
      " 0.0100\n",
      " 0.0100\n",
      " 0.0100\n",
      " 0.0100\n",
      " 0.0100\n",
      " 0.0100\n",
      " 0.0100\n",
      " 0.0100\n",
      " 0.0100\n",
      " 0.0100\n",
      " 0.0100\n",
      "[torch.FloatTensor of size 15]\n",
      "\n",
      "total prob :  Variable containing:\n",
      " 1.1300\n",
      "[torch.FloatTensor of size 1]\n",
      "\n",
      "loss : 19.6818\n",
      "UPDATING TARGET NETWORK\n",
      "UPDATING TARGET NETWORK\n"
     ]
    }
   ],
   "source": [
    "num_frames = 10000\n",
    "batch_size = 32\n",
    "gamma      = 0.99\n",
    "\n",
    "RENDER  = False\n",
    "APPEND  = True\n",
    "USE_EMD = True\n",
    "\n",
    "losses = []\n",
    "all_rewards = []\n",
    "episode_reward = 0\n",
    "\n",
    "state = env.reset()\n",
    "for frame_idx in range(1, num_frames + 1):\n",
    "    action = current_model.act(state)\n",
    "    \n",
    "    if RENDER : env.render()\n",
    "    next_state, reward, done, _ = env.step(action)\n",
    "    replay_buffer.push(state, action, reward, next_state, done)\n",
    "    \n",
    "    state = next_state\n",
    "    episode_reward += reward\n",
    "    \n",
    "    if done:\n",
    "        state = env.reset()\n",
    "        all_rewards.append(episode_reward)\n",
    "        episode_reward = 0\n",
    "        RENDER = False\n",
    "        \n",
    "    if len(replay_buffer) >= batch_size:\n",
    "        loss = compute_td_loss(batch_size, EMD=USE_EMD)\n",
    "        losses.append(loss.data[0])\n",
    "        \n",
    "    if frame_idx % 400 == 1:\n",
    "        # RENDER = True\n",
    "        plot(frame_idx, all_rewards, losses)\n",
    "        loss = compute_td_loss(batch_size, plot=True, EMD=USE_EMD)\n",
    "        print('loss : {:.4f}'.format(loss.data[0]))\n",
    "\n",
    "    if frame_idx % 200 == 0: # never update (debugging)\n",
    "        print('UPDATING TARGET NETWORK')\n",
    "        update_target(current_model, target_model)"
   ]
  },
  {
   "cell_type": "markdown",
   "metadata": {},
   "source": [
    "<h1>Atari Environment</h1>"
   ]
  },
  {
   "cell_type": "code",
   "execution_count": 14,
   "metadata": {},
   "outputs": [],
   "source": [
    "from common.wrappers import make_atari, wrap_deepmind, wrap_pytorch"
   ]
  },
  {
   "cell_type": "code",
   "execution_count": 15,
   "metadata": {},
   "outputs": [],
   "source": [
    "env_id = \"PongNoFrameskip-v4\"\n",
    "env    = make_atari(env_id)\n",
    "env    = wrap_deepmind(env)\n",
    "env    = wrap_pytorch(env)"
   ]
  },
  {
   "cell_type": "code",
   "execution_count": 16,
   "metadata": {},
   "outputs": [],
   "source": [
    "class CategoricalCnnDQN(nn.Module):\n",
    "    def __init__(self, input_shape, num_actions, num_atoms, Vmin, Vmax):\n",
    "        super(CategoricalCnnDQN, self).__init__()\n",
    "        \n",
    "        self.input_shape  = input_shape\n",
    "        self.num_actions  = num_actions\n",
    "        self.num_atoms    = num_atoms\n",
    "        self.Vmin         = Vmin\n",
    "        self.Vmax         = Vmax\n",
    "        \n",
    "        self.features = nn.Sequential(\n",
    "            nn.Conv2d(input_shape[0], 32, kernel_size=8, stride=4),\n",
    "            nn.ReLU(),\n",
    "            nn.Conv2d(32, 64, kernel_size=4, stride=2),\n",
    "            nn.ReLU(),\n",
    "            nn.Conv2d(64, 64, kernel_size=3, stride=1),\n",
    "            nn.ReLU()\n",
    "        )\n",
    "        \n",
    "        self.noisy1 = NoisyLinear(self.feature_size(), 512)\n",
    "        self.noisy2 = NoisyLinear(512, self.num_actions * self.num_atoms)\n",
    "        \n",
    "    def forward(self, x):\n",
    "        batch_size = x.size(0)\n",
    "        \n",
    "        x = x / 255.\n",
    "        x = self.features(x)\n",
    "        x = x.view(batch_size, -1)\n",
    "        \n",
    "        x = F.relu(self.noisy1(x))\n",
    "        x = self.noisy2(x)\n",
    "        x = F.softmax(x.view(-1, self.num_atoms)).view(-1, self.num_actions, self.num_atoms)\n",
    "        return x\n",
    "        \n",
    "    def reset_noise(self):\n",
    "        self.noisy1.reset_noise()\n",
    "        self.noisy2.reset_noise()\n",
    "        \n",
    "    def feature_size(self):\n",
    "        return self.features(autograd.Variable(torch.zeros(1, *self.input_shape))).view(1, -1).size(1)\n",
    "    \n",
    "    def act(self, state):\n",
    "        state = Variable(torch.FloatTensor(np.float32(state)).unsqueeze(0), volatile=True)\n",
    "        dist = self.forward(state).data.cpu()\n",
    "        dist = dist * torch.linspace(Vmin, Vmax, num_atoms)\n",
    "        action = dist.sum(2).max(1)[1].numpy()[0]\n",
    "        return action"
   ]
  },
  {
   "cell_type": "code",
   "execution_count": 19,
   "metadata": {},
   "outputs": [],
   "source": [
    "num_atoms = 21\n",
    "Vmin = -20\n",
    "Vmax =  20\n",
    "\n",
    "current_model = CategoricalCnnDQN(env.observation_space.shape, env.action_space.n, num_atoms, Vmin, Vmax)\n",
    "target_model  = CategoricalCnnDQN(env.observation_space.shape, env.action_space.n, num_atoms, Vmin, Vmax)\n",
    "\n",
    "if USE_CUDA:\n",
    "    current_model = current_model.cuda()\n",
    "    target_model  = target_model.cuda()\n",
    "    \n",
    "optimizer = optim.Adam(current_model.parameters(), 0.0001)\n",
    "update_target(current_model, target_model)\n",
    "\n",
    "replay_initial = 10000\n",
    "replay_buffer  = ReplayBuffer(100000)"
   ]
  },
  {
   "cell_type": "code",
   "execution_count": null,
   "metadata": {},
   "outputs": [
    {
     "data": {
      "image/png": "[encoded data removed]",
      "text/plain": [
       "<matplotlib.figure.Figure at 0x134dfb210>"
      ]
     },
     "metadata": {},
     "output_type": "display_data"
    },
    {
     "data": {
      "image/png": "[encoded data removed]",
      "text/plain": [
       "<matplotlib.figure.Figure at 0x138da0950>"
      ]
     },
     "metadata": {},
     "output_type": "display_data"
    },
    {
     "name": "stdout",
     "output_type": "stream",
     "text": [
      "source dist :  Variable containing:\n",
      " 0.0100\n",
      " 0.0100\n",
      " 0.0100\n",
      " 0.0100\n",
      " 0.0100\n",
      " 0.0100\n",
      " 0.0100\n",
      " 0.0100\n",
      " 0.0100\n",
      " 0.0100\n",
      " 0.0100\n",
      " 0.0100\n",
      " 0.0100\n",
      " 0.9900\n",
      " 0.0100\n",
      " 0.0100\n",
      " 0.0100\n",
      " 0.0100\n",
      " 0.0100\n",
      " 0.0100\n",
      " 0.0100\n",
      "[torch.FloatTensor of size 21]\n",
      "\n",
      "total prob :  Variable containing:\n",
      " 1.1900\n",
      "[torch.FloatTensor of size 1]\n",
      "\n",
      "loss : 30.6955\n"
     ]
    }
   ],
   "source": [
    "num_frames = 1000000\n",
    "batch_size = 32\n",
    "gamma      = 0.99\n",
    "\n",
    "losses = []\n",
    "all_rewards = []\n",
    "episode_reward = 0\n",
    "\n",
    "RENDER  = False\n",
    "APPEND  = True\n",
    "USE_EMD = True\n",
    "\n",
    "emd_loss = Categorical_EMD()\n",
    "\n",
    "state = env.reset()\n",
    "for frame_idx in range(1, num_frames + 1):\n",
    "    action = current_model.act(state)\n",
    "    \n",
    "    if RENDER : env.render()\n",
    "    next_state, reward, done, _ = env.step(action)\n",
    "    replay_buffer.push(state, action, reward, next_state, done)\n",
    "    \n",
    "    state = next_state\n",
    "    episode_reward += reward\n",
    "    \n",
    "    if done:\n",
    "        state = env.reset()\n",
    "        all_rewards.append(episode_reward)\n",
    "        episode_reward = 0\n",
    "        RENDER = False\n",
    "        \n",
    "    if len(replay_buffer) >= batch_size:\n",
    "        loss = compute_td_loss(batch_size, EMD=USE_EMD)\n",
    "        losses.append(loss.data[0])\n",
    "        \n",
    "    if frame_idx % 400 == 1:\n",
    "        # RENDER = True\n",
    "        plot(frame_idx, all_rewards, losses)\n",
    "        loss = compute_td_loss(batch_size, plot=True, EMD=USE_EMD)\n",
    "        print('loss : {:.4f}'.format(loss.data[0]))\n",
    "\n",
    "    if frame_idx % 1000 == 0: \n",
    "        print('UPDATING TARGET NETWORK')\n",
    "        update_target(current_model, target_model)\n"
   ]
  },
  {
   "cell_type": "code",
   "execution_count": null,
   "metadata": {},
   "outputs": [],
   "source": []
  }
 ],
 "metadata": {
  "kernelspec": {
   "display_name": "Python [default]",
   "language": "python",
   "name": "python2"
  },
  "language_info": {
   "codemirror_mode": {
    "name": "ipython",
    "version": 2
   },
   "file_extension": ".py",
   "mimetype": "text/x-python",
   "name": "python",
   "nbconvert_exporter": "python",
   "pygments_lexer": "ipython2",
   "version": "2.7.14"
  }
 },
 "nbformat": 4,
 "nbformat_minor": 2
}
